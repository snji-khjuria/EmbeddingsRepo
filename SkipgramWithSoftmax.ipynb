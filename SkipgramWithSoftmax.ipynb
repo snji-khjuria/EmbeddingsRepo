{
 "cells": [
  {
   "cell_type": "code",
   "execution_count": null,
   "metadata": {
    "collapsed": true,
    "deletable": true,
    "editable": true
   },
   "outputs": [],
   "source": [
    "#cbow: tries to predict the word based on neighbours\n",
    "#skipgram:print neighbours of the word\n",
    "#build 3 layer NN with objective to predict neighbouring words given a word\n",
    "#remoe last layer and keep the input and hidden layer"
   ]
  },
  {
   "cell_type": "code",
   "execution_count": 1,
   "metadata": {
    "collapsed": false,
    "deletable": true,
    "editable": true
   },
   "outputs": [],
   "source": [
    "import tensorflow as tf\n",
    "import numpy as np\n"
   ]
  },
  {
   "cell_type": "code",
   "execution_count": 2,
   "metadata": {
    "collapsed": true,
    "deletable": true,
    "editable": true
   },
   "outputs": [],
   "source": [
    "#data section\n",
    "sentences = [\n",
    "    \"1.33GHz Intel Z3735F processor\",\n",
    "    \"2GB DDR3 RAM\",\n",
    "    \"32GB hard drive\", \n",
    "    \"Windows 10 operating system\",\n",
    "    \"1.3kg laptop\",\n",
    "    \"A sleek and lightweight design with a heavy-duty\\\n",
    "    11 hour battery backup and pre-installed Windows 10. The Intel Quad Core Processor (up to 1.83GHz)\\\n",
    "    along with the Dual Speakers and 29.46cm (11.6) IPS display makes for a delightful everyday computing experience.\",\n",
    "    \"All new 2017 Apple MacBook Air\\\n",
    "    1.8GHz Intel Core i5 processor\\\n",
    "    8GB LPDDR3 RAM, 128GB Solid State hard drive\\\n",
    "    13.3-inch screen, Intel HD Graphics 6000\\\n",
    "    MacOS Sierra operating system\\\n",
    "    1.35kg laptop\\\n",
    "    1440x900 pixels per inch with support for millions of colors, 720p FaceTime HD camera\\\n",
    "    1 year warranty from manufacturer from date of purchase\"\n",
    "]\n",
    "sentences = [s.lower() for s in sentences]\n",
    "corpus = \" \".join(sentences)\n",
    "corpus = corpus.lower()\n",
    "words  = set(corpus.split())"
   ]
  },
  {
   "cell_type": "code",
   "execution_count": 3,
   "metadata": {
    "collapsed": true,
    "deletable": true,
    "editable": true
   },
   "outputs": [],
   "source": [
    "#create some dictionaries\n",
    "word2int = {}\n",
    "int2word = {}\n",
    "vocabsize = len(words)\n",
    "for i, word in enumerate(words):\n",
    "    word2int[word] = i\n",
    "    int2word[i]    = word"
   ]
  },
  {
   "cell_type": "code",
   "execution_count": 4,
   "metadata": {
    "collapsed": false,
    "deletable": true,
    "editable": true
   },
   "outputs": [
    {
     "name": "stdout",
     "output_type": "stream",
     "text": [
      "[['1.33ghz', 'intel', 'z3735f', 'processor'], ['2gb', 'ddr3', 'ram'], ['32gb', 'hard', 'drive'], ['windows', '10', 'operating', 'system'], ['1.3kg', 'laptop'], ['a', 'sleek', 'and', 'lightweight', 'design', 'with', 'a', 'heavy-duty', '11', 'hour', 'battery', 'backup', 'and', 'pre-installed', 'windows', '10.', 'the', 'intel', 'quad', 'core', 'processor', '(up', 'to', '1.83ghz)', 'along', 'with', 'the', 'dual', 'speakers', 'and', '29.46cm', '(11.6)', 'ips', 'display', 'makes', 'for', 'a', 'delightful', 'everyday', 'computing', 'experience.'], ['all', 'new', '2017', 'apple', 'macbook', 'air', '1.8ghz', 'intel', 'core', 'i5', 'processor', '8gb', 'lpddr3', 'ram,', '128gb', 'solid', 'state', 'hard', 'drive', '13.3-inch', 'screen,', 'intel', 'hd', 'graphics', '6000', 'macos', 'sierra', 'operating', 'system', '1.35kg', 'laptop', '1440x900', 'pixels', 'per', 'inch', 'with', 'support', 'for', 'millions', 'of', 'colors,', '720p', 'facetime', 'hd', 'camera', '1', 'year', 'warranty', 'from', 'manufacturer', 'from', 'date', 'of', 'purchase']]\n"
     ]
    }
   ],
   "source": [
    "sentencesAsList = [i.split() for i in sentences]\n",
    "print(sentencesAsList)"
   ]
  },
  {
   "cell_type": "code",
   "execution_count": 5,
   "metadata": {
    "collapsed": true,
    "deletable": true,
    "editable": true
   },
   "outputs": [],
   "source": [
    "#utility function\n",
    "def get_one_hot(index, total):\n",
    "    vector = np.zeros(total)\n",
    "    vector[index] = 1.0\n",
    "    return vector"
   ]
  },
  {
   "cell_type": "code",
   "execution_count": 6,
   "metadata": {
    "collapsed": false,
    "deletable": true,
    "editable": true
   },
   "outputs": [],
   "source": [
    "vocab_size = len(words)"
   ]
  },
  {
   "cell_type": "code",
   "execution_count": 7,
   "metadata": {
    "collapsed": true,
    "deletable": true,
    "editable": true
   },
   "outputs": [],
   "source": [
    "#group data according to window size\n",
    "WINDOW_SIZE = 2\n",
    "data = []\n",
    "for sentence in sentencesAsList:\n",
    "    for word_index, word in enumerate(sentence):\n",
    "        for nb_word in sentence[max(word_index - WINDOW_SIZE, 0) : min(word_index + WINDOW_SIZE, len(sentence))] :\n",
    "            if nb_word!=word:\n",
    "                data.append([word, nb_word])"
   ]
  },
  {
   "cell_type": "code",
   "execution_count": 8,
   "metadata": {
    "collapsed": false,
    "deletable": true,
    "editable": true
   },
   "outputs": [],
   "source": [
    "x_train = []\n",
    "y_train = []\n",
    "for (x, y) in data:\n",
    "    x_train.append(get_one_hot(word2int[x], vocab_size))\n",
    "    y_train.append(get_one_hot(word2int[y], vocab_size))"
   ]
  },
  {
   "cell_type": "code",
   "execution_count": 9,
   "metadata": {
    "collapsed": true,
    "deletable": true,
    "editable": true
   },
   "outputs": [],
   "source": [
    "x_train = np.asarray(x_train)\n",
    "y_train = np.asarray(y_train)"
   ]
  },
  {
   "cell_type": "code",
   "execution_count": 10,
   "metadata": {
    "collapsed": false,
    "deletable": true,
    "editable": true
   },
   "outputs": [
    {
     "name": "stdout",
     "output_type": "stream",
     "text": [
      "((304, 88), (304, 88))\n"
     ]
    }
   ],
   "source": [
    "print(x_train.shape, y_train.shape)"
   ]
  },
  {
   "cell_type": "code",
   "execution_count": 11,
   "metadata": {
    "collapsed": false,
    "deletable": true,
    "editable": true
   },
   "outputs": [],
   "source": [
    "#build the neural network architecture\n",
    "\n",
    "############PLACEHOLDER SECTION\n",
    "X = tf.placeholder(\"float\", shape=[None, vocab_size])\n",
    "Y = tf.placeholder(\"float\", shape=[None, vocab_size])\n",
    "\n",
    "\n",
    "#weights init section\n",
    "EMBEDDING_SIZE = 5\n",
    "\n",
    "w1 = tf.Variable(tf.random_normal([vocab_size, EMBEDDING_SIZE])) \n",
    "b1 = tf.Variable(tf.random_normal([EMBEDDING_SIZE]))\n",
    "hidden_representation = tf.add(tf.matmul(X, w1), b1)\n",
    "\n",
    "\n",
    "#layer 2 section\n",
    "w2          = tf.Variable(tf.random_normal([EMBEDDING_SIZE, vocab_size]))\n",
    "b2          = tf.Variable(tf.random_normal([vocab_size]))\n",
    "predictions = tf.nn.softmax(tf.add(tf.matmul(hidden_representation, w2), b2))"
   ]
  },
  {
   "cell_type": "code",
   "execution_count": 15,
   "metadata": {
    "collapsed": true,
    "deletable": true,
    "editable": true
   },
   "outputs": [],
   "source": [
    "#loss function\n",
    "loss       = tf.reduce_mean(tf.nn.softmax_cross_entropy_with_logits(logits=predictions, labels=Y))\n",
    "train_step = tf.train.GradientDescentOptimizer(0.1).minimize(loss)"
   ]
  },
  {
   "cell_type": "code",
   "execution_count": 28,
   "metadata": {
    "collapsed": false,
    "deletable": true,
    "editable": true
   },
   "outputs": [
    {
     "name": "stdout",
     "output_type": "stream",
     "text": [
      "('loss is : ', 4.4816933)\n",
      "('loss is : ', 4.4717193)\n",
      "('loss is : ', 4.4642134)\n",
      "('loss is : ', 4.4597273)\n",
      "('loss is : ', 4.4562821)\n",
      "('loss is : ', 4.4504871)\n",
      "('loss is : ', 4.4454713)\n",
      "('loss is : ', 4.4410143)\n",
      "('loss is : ', 4.4383531)\n",
      "('loss is : ', 4.4357791)\n",
      "('loss is : ', 4.4334903)\n",
      "('loss is : ', 4.4311028)\n",
      "('loss is : ', 4.4283299)\n",
      "('loss is : ', 4.4254546)\n",
      "('loss is : ', 4.4237614)\n",
      "('loss is : ', 4.4225698)\n",
      "('loss is : ', 4.421103)\n",
      "('loss is : ', 4.4194283)\n",
      "('loss is : ', 4.4179435)\n",
      "('loss is : ', 4.4159555)\n",
      "('loss is : ', 4.414382)\n",
      "('loss is : ', 4.4129586)\n",
      "('loss is : ', 4.41152)\n",
      "('loss is : ', 4.4100442)\n",
      "('loss is : ', 4.4084992)\n",
      "('loss is : ', 4.4067945)\n",
      "('loss is : ', 4.4054646)\n",
      "('loss is : ', 4.4045472)\n",
      "('loss is : ', 4.4035821)\n",
      "('loss is : ', 4.4023018)\n",
      "('loss is : ', 4.401515)\n",
      "('loss is : ', 4.4010105)\n",
      "('loss is : ', 4.4006381)\n",
      "('loss is : ', 4.4003201)\n",
      "('loss is : ', 4.3999777)\n",
      "('loss is : ', 4.399385)\n",
      "('loss is : ', 4.3982506)\n",
      "('loss is : ', 4.3973894)\n",
      "('loss is : ', 4.3965654)\n",
      "('loss is : ', 4.394875)\n",
      "('loss is : ', 4.3941474)\n",
      "('loss is : ', 4.3937798)\n",
      "('loss is : ', 4.3935456)\n",
      "('loss is : ', 4.3933778)\n",
      "('loss is : ', 4.3932481)\n",
      "('loss is : ', 4.3931427)\n",
      "('loss is : ', 4.3930531)\n",
      "('loss is : ', 4.3929763)\n",
      "('loss is : ', 4.3929081)\n",
      "('loss is : ', 4.392848)\n",
      "('loss is : ', 4.3927932)\n",
      "('loss is : ', 4.3927422)\n",
      "('loss is : ', 4.3926945)\n",
      "('loss is : ', 4.3926511)\n",
      "('loss is : ', 4.3926101)\n",
      "('loss is : ', 4.39257)\n",
      "('loss is : ', 4.3925347)\n",
      "('loss is : ', 4.3924999)\n",
      "('loss is : ', 4.3924665)\n",
      "('loss is : ', 4.3924351)\n",
      "('loss is : ', 4.3924041)\n",
      "('loss is : ', 4.3923736)\n",
      "('loss is : ', 4.3923445)\n",
      "('loss is : ', 4.3923163)\n",
      "('loss is : ', 4.3922868)\n",
      "('loss is : ', 4.3922591)\n",
      "('loss is : ', 4.3922315)\n",
      "('loss is : ', 4.3922043)\n",
      "('loss is : ', 4.3921776)\n",
      "('loss is : ', 4.3921523)\n",
      "('loss is : ', 4.3921285)\n",
      "('loss is : ', 4.3921056)\n",
      "('loss is : ', 4.3920827)\n",
      "('loss is : ', 4.3920627)\n",
      "('loss is : ', 4.3920417)\n",
      "('loss is : ', 4.3920226)\n",
      "('loss is : ', 4.392004)\n",
      "('loss is : ', 4.3919849)\n",
      "('loss is : ', 4.3919668)\n",
      "('loss is : ', 4.3919497)\n",
      "('loss is : ', 4.391933)\n",
      "('loss is : ', 4.3919148)\n",
      "('loss is : ', 4.3918977)\n",
      "('loss is : ', 4.391881)\n",
      "('loss is : ', 4.3918643)\n",
      "('loss is : ', 4.3918471)\n",
      "('loss is : ', 4.3918295)\n",
      "('loss is : ', 4.3918114)\n",
      "('loss is : ', 4.3917928)\n",
      "('loss is : ', 4.3917732)\n",
      "('loss is : ', 4.3917527)\n",
      "('loss is : ', 4.3917284)\n",
      "('loss is : ', 4.3917027)\n",
      "('loss is : ', 4.3916707)\n",
      "('loss is : ', 4.3916311)\n",
      "('loss is : ', 4.3915787)\n",
      "('loss is : ', 4.3915062)\n",
      "('loss is : ', 4.3913879)\n",
      "('loss is : ', 4.3911715)\n",
      "('loss is : ', 4.3907123)\n"
     ]
    }
   ],
   "source": [
    "vectors = []\n",
    "with tf.Session() as sess:\n",
    "    tf.global_variables_initializer().run()\n",
    "    for i in range(100000):\n",
    "        sess.run(train_step, feed_dict={X: x_train, Y: y_train})\n",
    "        if i%1000==0:\n",
    "            print('loss is : ', sess.run(loss, feed_dict={X: x_train, Y: y_train}))\n",
    "    vectors = sess.run(w1 + b1)"
   ]
  },
  {
   "cell_type": "code",
   "execution_count": 29,
   "metadata": {
    "collapsed": true
   },
   "outputs": [],
   "source": [
    "def euclidean_dist(vec1, vec2):\n",
    "    return np.sqrt(np.sum((vec1-vec2)**2))\n",
    "\n",
    "def find_closest(word_index, vectors):\n",
    "    min_dist = 10000 # to act like positive infinity\n",
    "    min_index = -1\n",
    "    query_vector = vectors[word_index]\n",
    "    for index, vector in enumerate(vectors):\n",
    "        if euclidean_dist(vector, query_vector) < min_dist and not np.array_equal(vector, query_vector):\n",
    "            min_dist = euclidean_dist(vector, query_vector)\n",
    "            min_index = index\n",
    "    return min_index"
   ]
  },
  {
   "cell_type": "code",
   "execution_count": 35,
   "metadata": {
    "collapsed": false
   },
   "outputs": [
    {
     "name": "stdout",
     "output_type": "stream",
     "text": [
      "(warranty, inch )\n",
      "(all, backup )\n",
      "(laptop, ram, )\n",
      "(pre-installed, battery )\n",
      "(1.8ghz, 1.3kg )\n",
      "(6000, 1 )\n",
      "(to, lpddr3 )\n",
      "(sierra, system )\n",
      "(2017, pixels )\n",
      "(10, 128gb )\n",
      "(ddr3, colors, )\n",
      "(8gb, 1.8ghz )\n",
      "(sleek, and )\n",
      "(intel, graphics )\n",
      "(delightful, facetime )\n",
      "(13.3-inch, 29.46cm )\n",
      "(z3735f, to )\n",
      "(hard, speakers )\n",
      "(design, speakers )\n",
      "(year, the )\n",
      "(for, sleek )\n",
      "(per, apple )\n",
      "(ram,, a )\n",
      "(state, system )\n",
      "(heavy-duty, and )\n",
      "(new, 1.8ghz )\n",
      "(core, 10. )\n",
      "(10., screen, )\n",
      "(128gb, support )\n",
      "(operating, 13.3-inch )\n",
      "(along, new )\n",
      "(pixels, lightweight )\n",
      "(manufacturer, sierra )\n",
      "(macos, purchase )\n",
      "(of, colors, )\n",
      "((11.6), date )\n",
      "(makes, backup )\n",
      "(processor, from )\n",
      "(facetime, delightful )\n",
      "(apple, per )\n",
      "(battery, pre-installed )\n",
      "(ips, support )\n",
      "((up, computing )\n",
      "(1.3kg, 1.8ghz )\n",
      "(millions, 1.33ghz )\n",
      "(from, 1.33ghz )\n",
      "(support, ips )\n",
      "(system, 720p )\n",
      "(camera, dual )\n",
      "(lpddr3, i5 )\n",
      "(1440x900, 1.35kg )\n",
      "(screen,, 10. )\n",
      "(32gb, ips )\n",
      "(graphics, intel )\n",
      "(quad, computing )\n",
      "(with, experience. )\n",
      "(hd, 29.46cm )\n",
      "(11, and )\n",
      "(1.35kg, 1440x900 )\n",
      "(hour, the )\n",
      "(solid, hard )\n",
      "(air, 1.83ghz) )\n",
      "(display, experience. )\n",
      "(and, 11 )\n",
      "(computing, 1.33ghz )\n",
      "(experience., display )\n",
      "(ram, 2gb )\n",
      "(1.33ghz, computing )\n",
      "(1.83ghz), air )\n",
      "(dual, delightful )\n",
      "(lightweight, pixels )\n",
      "(everyday, sleek )\n",
      "(speakers, hard )\n",
      "(1, facetime )\n",
      "(inch, experience. )\n",
      "(i5, lpddr3 )\n",
      "(colors,, ddr3 )\n",
      "(date, (11.6) )\n",
      "(macbook, per )\n",
      "(a, ram, )\n",
      "(purchase, per )\n",
      "(windows, ddr3 )\n",
      "(backup, makes )\n",
      "(29.46cm, hd )\n",
      "(720p, system )\n",
      "(drive, hard )\n",
      "(2gb, ram )\n",
      "(the, a )\n"
     ]
    }
   ],
   "source": [
    "for word in words:\n",
    "    print(\"(\" + str(word) + \", \" + int2word[find_closest(word2int[word], vectors)] + \" )\")"
   ]
  }
 ],
 "metadata": {
  "kernelspec": {
   "display_name": "Python 2",
   "language": "python",
   "name": "python2"
  },
  "language_info": {
   "codemirror_mode": {
    "name": "ipython",
    "version": 2
   },
   "file_extension": ".py",
   "mimetype": "text/x-python",
   "name": "python",
   "nbconvert_exporter": "python",
   "pygments_lexer": "ipython2",
   "version": "2.7.12"
  }
 },
 "nbformat": 4,
 "nbformat_minor": 2
}
